{
  "nbformat": 4,
  "nbformat_minor": 0,
  "metadata": {
    "colab": {
      "provenance": [],
      "authorship_tag": "ABX9TyOipQDVUq6wbudKqutLYXA4",
      "include_colab_link": true
    },
    "kernelspec": {
      "name": "python3",
      "display_name": "Python 3"
    },
    "language_info": {
      "name": "python"
    }
  },
  "cells": [
    {
      "cell_type": "markdown",
      "metadata": {
        "id": "view-in-github",
        "colab_type": "text"
      },
      "source": [
        "<a href=\"https://colab.research.google.com/github/jamesdayao/58009-DSAA/blob/main/Activity_2.ipynb\" target=\"_parent\"><img src=\"https://colab.research.google.com/assets/colab-badge.svg\" alt=\"Open In Colab\"/></a>"
      ]
    },
    {
      "cell_type": "markdown",
      "source": [
        "1. Write a Python program to create a singly linked list of prime numbers less than 20. By iterating through the list, display all the prime numbers, the head, and the tail of the list"
      ],
      "metadata": {
        "id": "1xeIEuTMYXyi"
      }
    },
    {
      "cell_type": "code",
      "execution_count": 41,
      "metadata": {
        "colab": {
          "base_uri": "https://localhost:8080/"
        },
        "id": "Pr9zLw4eXsNr",
        "outputId": "c373ae18-fbe7-4cc5-f51f-b2500d4bb1c1"
      },
      "outputs": [
        {
          "output_type": "stream",
          "name": "stdout",
          "text": [
            "2\n",
            "5\n",
            "7\n",
            "13\n",
            "17\n",
            "19\n",
            "Head:  2\n",
            "Tail: 19\n"
          ]
        }
      ],
      "source": [
        "class Node:\n",
        "  def __init__(self, data): # Function to initialize the node object\n",
        "    self.data = data # Assign data\n",
        "    self.next = 0 # Initialize next as null\n",
        "\n",
        "# Linked List class contains a Node object\n",
        "\n",
        "tail = 19\n",
        "\n",
        "class linked_list:\n",
        "# Function to initialize head\n",
        "  def __init__(self):\n",
        "    self.head = 0\n",
        "    self.tail = 0\n",
        "\n",
        "  def push(self, new):\n",
        "    NewNode = Node(new)\n",
        "    NewNode.next = self.head\n",
        "\n",
        "    if (self.head != 0):\n",
        "      self.head.prev = NewNode\n",
        "      self.head = NewNode\n",
        "\n",
        "  def append(self, new):\n",
        "    NewNode = Node(new)\n",
        "    NewNode.next = 0\n",
        "\n",
        "    if (self.head == 0):\n",
        "      NewNode.prev = 0\n",
        "      self.head = NewNode\n",
        "      return\n",
        "\n",
        "    last = self.head\n",
        "    while (last.next != 0):\n",
        "      last = last.next\n",
        "    last.next = NewNode\n",
        "    NewNode.prev = last\n",
        "    return\n",
        "\n",
        "  def listprint(self, node):\n",
        "      while (node != 0):\n",
        "        print(node.data)\n",
        "        last = node\n",
        "        node = node.next\n",
        "\n",
        "      print(\"Head: \", self.head.data)\n",
        "\n",
        "llist = linked_list()\n",
        "\n",
        "llist.push(11)\n",
        "llist.append(13)\n",
        "llist.push(7)\n",
        "llist.push(5)\n",
        "llist.append(17)\n",
        "llist.push(2)\n",
        "llist.append(19)\n",
        "\n",
        "llist.listprint(llist.head)\n",
        "print(\"Tail:\", tail)"
      ]
    },
    {
      "cell_type": "code",
      "source": [],
      "metadata": {
        "id": "mv9KmkwF0H83"
      },
      "execution_count": null,
      "outputs": []
    }
  ]
}