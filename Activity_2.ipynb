{
  "nbformat": 4,
  "nbformat_minor": 0,
  "metadata": {
    "colab": {
      "provenance": [],
      "authorship_tag": "ABX9TyPsg3VQmbRpYW/PO7t43MwP",
      "include_colab_link": true
    },
    "kernelspec": {
      "name": "python3",
      "display_name": "Python 3"
    },
    "language_info": {
      "name": "python"
    }
  },
  "cells": [
    {
      "cell_type": "markdown",
      "metadata": {
        "id": "view-in-github",
        "colab_type": "text"
      },
      "source": [
        "<a href=\"https://colab.research.google.com/github/jamesdayao/58009-DSAA/blob/main/Activity_2.ipynb\" target=\"_parent\"><img src=\"https://colab.research.google.com/assets/colab-badge.svg\" alt=\"Open In Colab\"/></a>"
      ]
    },
    {
      "cell_type": "markdown",
      "source": [
        "1. Write a Python program to create a singly linked list of prime numbers less than 20. By iterating through the list, display all the prime numbers, the head, and the tail of the list"
      ],
      "metadata": {
        "id": "1xeIEuTMYXyi"
      }
    },
    {
      "cell_type": "code",
      "execution_count": 25,
      "metadata": {
        "colab": {
          "base_uri": "https://localhost:8080/"
        },
        "id": "Pr9zLw4eXsNr",
        "outputId": "72bea4cd-bc7a-4f56-f712-e51b28509a4e"
      },
      "outputs": [
        {
          "output_type": "stream",
          "name": "stdout",
          "text": [
            "2\n",
            "5\n",
            "7\n",
            "11\n",
            "13\n",
            "17\n",
            "19\n"
          ]
        }
      ],
      "source": [
        "class Node:\n",
        "  def __init__(self, data):\n",
        "    self.data = data\n",
        "    self.next = 0\n",
        "\n",
        "\n",
        "class doubly_linked_list:\n",
        "  def __init__(self):\n",
        "    self.head = 0\n",
        "\n",
        "  def push(self, new):\n",
        "    NewNode = Node(new)\n",
        "    NewNode.next = self.head\n",
        "\n",
        "    if (self.head != 0):\n",
        "      self.head.prev = NewNode\n",
        "    self.head = NewNode\n",
        "\n",
        "  def append(self, new):\n",
        "    NewNode = Node(new)\n",
        "    NewNode.next = 0\n",
        "\n",
        "    if (self.head == 0):\n",
        "      NewNode.prev = 0\n",
        "      self.head = NewNode\n",
        "      return\n",
        "\n",
        "    last = self.head\n",
        "    while (last.next != 0):\n",
        "      last = last.next\n",
        "    last.next = NewNode\n",
        "    NewNode.prev = last\n",
        "    return\n",
        "\n",
        "  def listprint(self, node):\n",
        "      while (node != 0):\n",
        "        print(node.data)\n",
        "        last = node\n",
        "        node = node.next\n",
        "\n",
        "dllist = doubly_linked_list()\n",
        "\n",
        "dllist.push(11)\n",
        "dllist.append(13)\n",
        "dllist.push(7)\n",
        "dllist.push(5)\n",
        "dllist.append(17)\n",
        "dllist.push(2)\n",
        "dllist.append(19)\n",
        "\n",
        "dllist.listprint(dllist.head)\n"
      ]
    }
  ]
}