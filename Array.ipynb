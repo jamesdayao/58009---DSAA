{
  "nbformat": 4,
  "nbformat_minor": 0,
  "metadata": {
    "colab": {
      "provenance": [],
      "authorship_tag": "ABX9TyNb0LzQTVg7VQ9JnUJKssxK",
      "include_colab_link": true
    },
    "kernelspec": {
      "name": "python3",
      "display_name": "Python 3"
    },
    "language_info": {
      "name": "python"
    }
  },
  "cells": [
    {
      "cell_type": "markdown",
      "metadata": {
        "id": "view-in-github",
        "colab_type": "text"
      },
      "source": [
        "<a href=\"https://colab.research.google.com/github/jamesdayao/58009-DSAA/blob/main/Array.ipynb\" target=\"_parent\"><img src=\"https://colab.research.google.com/assets/colab-badge.svg\" alt=\"Open In Colab\"/></a>"
      ]
    },
    {
      "cell_type": "markdown",
      "source": [
        "# Arrays"
      ],
      "metadata": {
        "id": "pfqQA6NybTmf"
      }
    },
    {
      "cell_type": "markdown",
      "source": [
        "Accessing the Elements in the Array"
      ],
      "metadata": {
        "id": "ClK8WU22WMkC"
      }
    },
    {
      "cell_type": "code",
      "source": [
        "animals = [\"cat\", \"dog\", \"fish\"]\n",
        "x = animals[0]\n",
        "y = animals[1]\n",
        "z = animals[2]\n",
        "\n",
        "print(x)\n",
        "print(y)\n",
        "print(z)"
      ],
      "metadata": {
        "colab": {
          "base_uri": "https://localhost:8080/"
        },
        "id": "g-9WZxxFWQjx",
        "outputId": "ed2efe8f-59cf-40a1-d881-4f68a3196991"
      },
      "execution_count": 2,
      "outputs": [
        {
          "output_type": "stream",
          "name": "stdout",
          "text": [
            "cat\n",
            "dog\n",
            "fish\n"
          ]
        }
      ]
    },
    {
      "cell_type": "markdown",
      "source": [
        "Modifying the Elements in the Array"
      ],
      "metadata": {
        "id": "M8AmSvn0WplK"
      }
    },
    {
      "cell_type": "code",
      "source": [
        "animals = [\"cat\", \"dog\", \"fish\"]\n",
        "\n",
        "animals[0] = \"monkey\"\n",
        "\n",
        "print(animals)"
      ],
      "metadata": {
        "colab": {
          "base_uri": "https://localhost:8080/"
        },
        "id": "0uOiylqLWr7C",
        "outputId": "7c4f9cc8-c033-49df-e03a-8a6ffd8032db"
      },
      "execution_count": 10,
      "outputs": [
        {
          "output_type": "stream",
          "name": "stdout",
          "text": [
            "['monkey', 'dog', 'fish']\n"
          ]
        }
      ]
    },
    {
      "cell_type": "markdown",
      "source": [
        "Length of an Array"
      ],
      "metadata": {
        "id": "StjY5HCbXdK6"
      }
    },
    {
      "cell_type": "code",
      "source": [
        "animals = [\"cat\", \"dog\", \"fish\"]\n",
        "\n",
        "x = len(animals)\n",
        "\n",
        "print(x)"
      ],
      "metadata": {
        "colab": {
          "base_uri": "https://localhost:8080/"
        },
        "id": "pEc5nLV7Xeey",
        "outputId": "8cd3718e-c045-4ab3-ec07-810c989866d7"
      },
      "execution_count": 8,
      "outputs": [
        {
          "output_type": "stream",
          "name": "stdout",
          "text": [
            "3\n"
          ]
        }
      ]
    },
    {
      "cell_type": "markdown",
      "source": [
        "Looping Array Elements"
      ],
      "metadata": {
        "id": "HziEHhAhYKfc"
      }
    },
    {
      "cell_type": "code",
      "source": [
        "animals = [\"cat\", \"dog\", \"fish\"]\n",
        "\n",
        "for x in animals:\n",
        "  print(x)"
      ],
      "metadata": {
        "colab": {
          "base_uri": "https://localhost:8080/"
        },
        "id": "x7Pda98fYMly",
        "outputId": "d6732782-a1c1-46cf-a76e-aa71fcc9dd9b"
      },
      "execution_count": 11,
      "outputs": [
        {
          "output_type": "stream",
          "name": "stdout",
          "text": [
            "cat\n",
            "dog\n",
            "fish\n"
          ]
        }
      ]
    },
    {
      "cell_type": "markdown",
      "source": [
        "#Array Methods"
      ],
      "metadata": {
        "id": "1p8pnJU5bIzv"
      }
    },
    {
      "cell_type": "markdown",
      "source": [
        "Adding Elements in the Array\n",
        "\n",
        "Append()"
      ],
      "metadata": {
        "id": "3k7kuQz5YZF8"
      }
    },
    {
      "cell_type": "code",
      "source": [
        "animals = [\"cat\", \"dog\", \"fish\"]\n",
        "\n",
        "animals.append(\"monkey\")\n",
        "\n",
        "print(animals)"
      ],
      "metadata": {
        "colab": {
          "base_uri": "https://localhost:8080/"
        },
        "id": "y4c29owmYa5d",
        "outputId": "5afe5369-c2ca-404f-b2a4-c0b14b8c97a6"
      },
      "execution_count": 12,
      "outputs": [
        {
          "output_type": "stream",
          "name": "stdout",
          "text": [
            "['cat', 'dog', 'fish', 'monkey']\n"
          ]
        }
      ]
    },
    {
      "cell_type": "markdown",
      "source": [
        "Removing an Element in the Array\n",
        "\n",
        "Pop()\n"
      ],
      "metadata": {
        "id": "mOl0Fdm5Yij1"
      }
    },
    {
      "cell_type": "code",
      "source": [
        "animals = [\"cat\", \"dog\", \"fish\"]\n",
        "\n",
        "animals.pop(2)\n",
        "\n",
        "print(animals)"
      ],
      "metadata": {
        "colab": {
          "base_uri": "https://localhost:8080/"
        },
        "id": "UuijDuQkYlC9",
        "outputId": "b28c9ab8-0065-4eee-92bf-16908608f26e"
      },
      "execution_count": 14,
      "outputs": [
        {
          "output_type": "stream",
          "name": "stdout",
          "text": [
            "['cat', 'dog']\n"
          ]
        }
      ]
    },
    {
      "cell_type": "markdown",
      "source": [
        "Inserting an Element in the Array\n",
        "\n",
        "Insert()"
      ],
      "metadata": {
        "id": "4tepAu4CeHmi"
      }
    },
    {
      "cell_type": "code",
      "source": [
        "animals = [\"cat\", \"dog\", \"fish\"]\n",
        "\n",
        "animals.insert(3, \"donkey\")\n",
        "\n",
        "print(animals)"
      ],
      "metadata": {
        "colab": {
          "base_uri": "https://localhost:8080/"
        },
        "id": "epZ-3puheKUa",
        "outputId": "5437d6c7-6ee2-4f9a-ee0b-c0ec2c9675e5"
      },
      "execution_count": 34,
      "outputs": [
        {
          "output_type": "stream",
          "name": "stdout",
          "text": [
            "['cat', 'dog', 'fish', 'donkey']\n"
          ]
        }
      ]
    },
    {
      "cell_type": "markdown",
      "source": [
        "Deleting an Element in the Array\n",
        "\n",
        "Clear()"
      ],
      "metadata": {
        "id": "Z3mEungng1Ei"
      }
    },
    {
      "cell_type": "code",
      "source": [
        "animals = [\"cat\", \"dog\", \"fish\"]\n",
        "\n",
        "animals.clear()\n",
        "\n",
        "print(animals)"
      ],
      "metadata": {
        "colab": {
          "base_uri": "https://localhost:8080/"
        },
        "id": "6DaiPmMVg79R",
        "outputId": "521e8bb6-f1a0-482e-d617-5eb01e08245d"
      },
      "execution_count": 38,
      "outputs": [
        {
          "output_type": "stream",
          "name": "stdout",
          "text": [
            "[]\n"
          ]
        }
      ]
    },
    {
      "cell_type": "markdown",
      "source": [
        "Sorting an Element in the Array\n",
        "\n",
        "Sort()\n",
        "\n"
      ],
      "metadata": {
        "id": "tHYo0vN4iIf7"
      }
    },
    {
      "cell_type": "code",
      "source": [
        "animals = [\"fish\", \"dog\", \"cat\"]\n",
        "\n",
        "animals.sort()\n",
        "\n",
        "print(animals)"
      ],
      "metadata": {
        "colab": {
          "base_uri": "https://localhost:8080/"
        },
        "id": "P6RDheEliKz7",
        "outputId": "b82cb7ad-96f7-4486-826a-7bb685cf288e"
      },
      "execution_count": 39,
      "outputs": [
        {
          "output_type": "stream",
          "name": "stdout",
          "text": [
            "['cat', 'dog', 'fish']\n"
          ]
        }
      ]
    }
  ]
}