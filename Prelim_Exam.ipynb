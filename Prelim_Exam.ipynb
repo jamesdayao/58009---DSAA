{
  "nbformat": 4,
  "nbformat_minor": 0,
  "metadata": {
    "colab": {
      "provenance": [],
      "authorship_tag": "ABX9TyNokniOCADVjYOdYuacrLjm",
      "include_colab_link": true
    },
    "kernelspec": {
      "name": "python3",
      "display_name": "Python 3"
    },
    "language_info": {
      "name": "python"
    }
  },
  "cells": [
    {
      "cell_type": "markdown",
      "metadata": {
        "id": "view-in-github",
        "colab_type": "text"
      },
      "source": [
        "<a href=\"https://colab.research.google.com/github/jamesdayao/58009-DSAA/blob/main/Prelim_Exam.ipynb\" target=\"_parent\"><img src=\"https://colab.research.google.com/assets/colab-badge.svg\" alt=\"Open In Colab\"/></a>"
      ]
    },
    {
      "cell_type": "markdown",
      "source": [
        "Part 1\n",
        "\n",
        "Create the source code for adding the test scores 26, 49, 98, 87, 62, 75"
      ],
      "metadata": {
        "id": "tkMlsWHm6XuY"
      }
    },
    {
      "cell_type": "code",
      "execution_count": 21,
      "metadata": {
        "colab": {
          "base_uri": "https://localhost:8080/"
        },
        "id": "PGAqfeRN3NZr",
        "outputId": "6e860abb-dc79-4b07-d83f-81cc4703bb60"
      },
      "outputs": [
        {
          "output_type": "stream",
          "name": "stdout",
          "text": [
            "397\n",
            "[26, 49, 62, 75, 87, 98]\n"
          ]
        }
      ],
      "source": [
        "score = [26, 49, 98, 87, 62, 75]\n",
        "\n",
        "#Add Test Scores\n",
        "print(sum(score))"
      ]
    },
    {
      "cell_type": "markdown",
      "source": [
        "Part 2\n",
        "\n",
        "Create a program to sort the test scores in ascending order"
      ],
      "metadata": {
        "id": "Yif-_-vt8frG"
      }
    },
    {
      "cell_type": "code",
      "source": [
        "#Sorting Test Scores in Ascending Order\n",
        "score.sort()\n",
        "print(score)"
      ],
      "metadata": {
        "colab": {
          "base_uri": "https://localhost:8080/"
        },
        "id": "LiJqDtoX8Z1u",
        "outputId": "fcc0a323-33fc-4075-d778-aaf197751593"
      },
      "execution_count": 22,
      "outputs": [
        {
          "output_type": "stream",
          "name": "stdout",
          "text": [
            "[26, 49, 62, 75, 87, 98]\n"
          ]
        }
      ]
    }
  ]
}