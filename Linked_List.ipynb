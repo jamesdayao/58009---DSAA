{
  "nbformat": 4,
  "nbformat_minor": 0,
  "metadata": {
    "colab": {
      "provenance": [],
      "authorship_tag": "ABX9TyOEBaBDZucsGrYOWtXBn0o6",
      "include_colab_link": true
    },
    "kernelspec": {
      "name": "python3",
      "display_name": "Python 3"
    },
    "language_info": {
      "name": "python"
    }
  },
  "cells": [
    {
      "cell_type": "markdown",
      "metadata": {
        "id": "view-in-github",
        "colab_type": "text"
      },
      "source": [
        "<a href=\"https://colab.research.google.com/github/jamesdayao/58009-DSAA/blob/main/Linked_List.ipynb\" target=\"_parent\"><img src=\"https://colab.research.google.com/assets/colab-badge.svg\" alt=\"Open In Colab\"/></a>"
      ]
    },
    {
      "cell_type": "markdown",
      "source": [
        "Example 1"
      ],
      "metadata": {
        "id": "17qBp7P4sdZ3"
      }
    },
    {
      "cell_type": "code",
      "execution_count": 84,
      "metadata": {
        "colab": {
          "base_uri": "https://localhost:8080/",
          "height": 35
        },
        "id": "Q8TwOANqsEBr",
        "outputId": "241be778-edf4-4c6f-a5a1-88588c60fbc8"
      },
      "outputs": [
        {
          "output_type": "execute_result",
          "data": {
            "text/plain": [
              "'f'"
            ],
            "application/vnd.google.colaboratory.intrinsic+json": {
              "type": "string"
            }
          },
          "metadata": {},
          "execution_count": 84
        }
      ],
      "source": [
        "import array\n",
        "array.typecodes\n",
        "\n",
        "a = array.array ('i', [1, 2, 3, 4, 5, 6])\n",
        "b = array.array ('f', [1.5, 2.5, 3.5, 4.5, 5.5, 6.5])\n",
        "\n",
        "a.typecode\n",
        "b.typecode"
      ]
    },
    {
      "cell_type": "markdown",
      "source": [
        "Example 2"
      ],
      "metadata": {
        "id": "VkvknIw16ksP"
      }
    },
    {
      "cell_type": "code",
      "source": [
        "import array\n",
        "array.typecodes\n",
        "\n",
        "a = array.array ('f', [1.5, 2.5, 3.5, 4.5, 5.5, 6.5])\n",
        "b = array.array ('d', [1.54, 2.54, 3.54, 4.54, 5.54, 6.54])\n",
        "\n",
        "print(a)\n",
        "b"
      ],
      "metadata": {
        "colab": {
          "base_uri": "https://localhost:8080/"
        },
        "id": "RLKCsPkT6j24",
        "outputId": "9ece3cac-abe2-40c7-fcd9-2611897997ac"
      },
      "execution_count": 44,
      "outputs": [
        {
          "output_type": "stream",
          "name": "stdout",
          "text": [
            "array('f', [1.5, 2.5, 3.5, 4.5, 5.5, 6.5])\n"
          ]
        },
        {
          "output_type": "execute_result",
          "data": {
            "text/plain": [
              "array('d', [1.54, 2.54, 3.54, 4.54, 5.54, 6.54])"
            ]
          },
          "metadata": {},
          "execution_count": 44
        }
      ]
    },
    {
      "cell_type": "markdown",
      "source": [
        "What is the output of these codes?"
      ],
      "metadata": {
        "id": "cASToAJTt7wj"
      }
    },
    {
      "cell_type": "code",
      "source": [
        "import array\n",
        "array.typecodes\n",
        "\n",
        "a = array.array('i', [4,5,6,7])\n",
        "a.insert(1,2)\n",
        "a"
      ],
      "metadata": {
        "colab": {
          "base_uri": "https://localhost:8080/"
        },
        "id": "RL6SQN0Qt-18",
        "outputId": "465e1150-22e3-48f6-acff-d7bcf4c069a2"
      },
      "execution_count": 16,
      "outputs": [
        {
          "output_type": "execute_result",
          "data": {
            "text/plain": [
              "array('i', [4, 2, 5, 6, 7])"
            ]
          },
          "metadata": {},
          "execution_count": 16
        }
      ]
    },
    {
      "cell_type": "code",
      "source": [
        "import array\n",
        "array.typecodes\n",
        "\n",
        "a = array.array('i', [4,2,5,6,7])\n",
        "a.insert(-1,0)\n",
        "a"
      ],
      "metadata": {
        "colab": {
          "base_uri": "https://localhost:8080/"
        },
        "id": "7xsOzv61uWZf",
        "outputId": "6fa3e275-bd83-4457-8707-d2f8eef735e6"
      },
      "execution_count": 17,
      "outputs": [
        {
          "output_type": "execute_result",
          "data": {
            "text/plain": [
              "array('i', [4, 2, 5, 6, 0, 7])"
            ]
          },
          "metadata": {},
          "execution_count": 17
        }
      ]
    },
    {
      "cell_type": "code",
      "source": [
        "import array\n",
        "array.typecodes\n",
        "\n",
        "a = array.array('i', [4,2,5,6,7])\n",
        "a.insert(10,-1)\n",
        "a"
      ],
      "metadata": {
        "colab": {
          "base_uri": "https://localhost:8080/"
        },
        "id": "CG0Dtd8Euoo9",
        "outputId": "59ad1d79-2397-4b49-8276-128aed32d511"
      },
      "execution_count": 46,
      "outputs": [
        {
          "output_type": "execute_result",
          "data": {
            "text/plain": [
              "array('i', [4, 2, 5, 6, 7, -1])"
            ]
          },
          "metadata": {},
          "execution_count": 46
        }
      ]
    },
    {
      "cell_type": "markdown",
      "source": [
        "Example 3"
      ],
      "metadata": {
        "id": "h4hfCSsUwOxG"
      }
    },
    {
      "cell_type": "code",
      "source": [
        "#Node Class\n",
        "class Node:\n",
        "  #Function to initialize the node object\n",
        "  def __init__(self, data):\n",
        "    self.data = data #Assign data\n",
        "    self.next = None #Initialize\n",
        "                     #Next as null\n",
        "# Linked List Class\n",
        "class LinkedList:\n",
        "  #Function to initalize the Linked list object\n",
        "  def __init__(self):\n",
        "    self.head = 0\n"
      ],
      "metadata": {
        "colab": {
          "base_uri": "https://localhost:8080/"
        },
        "id": "6xoalPSfwQ7O",
        "outputId": "5b11f9b3-0db4-4f55-9eec-3eaed74c6e46"
      },
      "execution_count": 45,
      "outputs": [
        {
          "output_type": "stream",
          "name": "stdout",
          "text": [
            "1\n",
            "2\n",
            "3\n"
          ]
        }
      ]
    },
    {
      "cell_type": "markdown",
      "source": [
        "Example 4 (Singly-Linked List)"
      ],
      "metadata": {
        "id": "eaR9G3V0xqpZ"
      }
    },
    {
      "cell_type": "code",
      "source": [
        "# A simple Python program to introduce a linked list\n",
        "class Node:\n",
        "  def __init__(self, data):\n",
        "    self.data = data\n",
        "    self.next = 0\n",
        "    self.prev = 0\n",
        "\n",
        "class LinkedList:\n",
        "  def __init__(self):\n",
        "    self.head = 0\n",
        "\n",
        "  def printlist(self):\n",
        "    temp = self.head\n",
        "\n",
        "    while(temp):\n",
        "      print(temp.data)\n",
        "      temp = temp.next\n",
        "\n",
        "if __name__=='__main__': # Start with the empty list\n",
        "  llist = LinkedList()\n",
        "\n",
        "  llist.head = Node(1)\n",
        "  second = Node(2)\n",
        "  third = Node(3)\n",
        "\n",
        "  llist.head.next = second; # Link first node with second\n",
        "  second.next = third; # Link second node with the third node\n",
        "\n",
        "llist.printlist()\n"
      ],
      "metadata": {
        "colab": {
          "base_uri": "https://localhost:8080/"
        },
        "id": "hl08O-VAxsAg",
        "outputId": "a8b5de42-d004-4432-abb9-ce49bc5608b6"
      },
      "execution_count": 51,
      "outputs": [
        {
          "output_type": "stream",
          "name": "stdout",
          "text": [
            "1\n",
            "2\n",
            "3\n"
          ]
        }
      ]
    },
    {
      "cell_type": "markdown",
      "source": [
        "Example 5 (Doubly-Linked List)"
      ],
      "metadata": {
        "id": "p9M1nnSd12Il"
      }
    },
    {
      "cell_type": "code",
      "source": [
        "class Node:\n",
        "  def __init__(self, data): # Function to initialize the node object\n",
        "    self.data = data # Assign data\n",
        "    self.next = 0 # Initialize next as null\n",
        "\n",
        "# Linked List class contains a Node object\n",
        "\n",
        "class doubly_linked_list:\n",
        "# Function to initialize head\n",
        "  def __init__(self):\n",
        "    self.head = 0\n",
        "\n",
        "  def push(self, new):\n",
        "    NewNode = Node(new)\n",
        "    NewNode.next = self.head\n",
        "\n",
        "    if (self.head != 0):\n",
        "      self.head.prev = NewNode\n",
        "    self.head = NewNode\n",
        "\n",
        "  def append(self, new):\n",
        "    NewNode = Node(new)\n",
        "    NewNode.next = 0\n",
        "\n",
        "    if (self.head == 0):\n",
        "      NewNode.prev = 0\n",
        "      self.head = NewNode\n",
        "      return\n",
        "\n",
        "    last = self.head\n",
        "    while (last.next != 0):\n",
        "      last = last.next\n",
        "    last.next = NewNode\n",
        "    NewNode.prev = last\n",
        "    return\n",
        "\n",
        "  def listprint(self, node):\n",
        "      while (node != 0):\n",
        "        print(node.data)\n",
        "        last = node\n",
        "        node = node.next\n",
        "\n",
        "dllist = doubly_linked_list()\n",
        "\n",
        "dllist.push(3)\n",
        "dllist.append(2)\n",
        "dllist.push(2)\n",
        "dllist.push(1)\n",
        "dllist.append(1)\n",
        "dllist.listprint(dllist.head)"
      ],
      "metadata": {
        "colab": {
          "base_uri": "https://localhost:8080/"
        },
        "id": "plAez1y991IF",
        "outputId": "bca4b4b0-8f60-4138-cdfc-49f92a5c307d"
      },
      "execution_count": 85,
      "outputs": [
        {
          "output_type": "stream",
          "name": "stdout",
          "text": [
            "1\n",
            "2\n",
            "3\n",
            "2\n",
            "1\n"
          ]
        }
      ]
    }
  ]
}