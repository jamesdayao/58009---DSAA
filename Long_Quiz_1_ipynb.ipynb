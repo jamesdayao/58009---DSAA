{
  "nbformat": 4,
  "nbformat_minor": 0,
  "metadata": {
    "colab": {
      "provenance": [],
      "authorship_tag": "ABX9TyPTKBkvYCJylV3bEHWAdWKq",
      "include_colab_link": true
    },
    "kernelspec": {
      "name": "python3",
      "display_name": "Python 3"
    },
    "language_info": {
      "name": "python"
    }
  },
  "cells": [
    {
      "cell_type": "markdown",
      "metadata": {
        "id": "view-in-github",
        "colab_type": "text"
      },
      "source": [
        "<a href=\"https://colab.research.google.com/github/jamesdayao/58009-DSAA/blob/main/Long_Quiz_1_ipynb.ipynb\" target=\"_parent\"><img src=\"https://colab.research.google.com/assets/colab-badge.svg\" alt=\"Open In Colab\"/></a>"
      ]
    },
    {
      "cell_type": "markdown",
      "source": [
        "Create a python or C++ program that appends each character of your full name and displays each character in reverse order"
      ],
      "metadata": {
        "id": "xte_4xvS5snh"
      }
    },
    {
      "cell_type": "code",
      "execution_count": 95,
      "metadata": {
        "colab": {
          "base_uri": "https://localhost:8080/"
        },
        "id": "61AXd3fszCnb",
        "outputId": "8263f95f-71b7-4424-8e1d-069f3690670f"
      },
      "outputs": [
        {
          "output_type": "stream",
          "name": "stdout",
          "text": [
            "['James Bernard', 'R.', 'Dayao']\n",
            "['Dayao', 'R.', 'James Bernard']\n"
          ]
        }
      ],
      "source": [
        "name = [\"James Bernard\", \"R.\"]\n",
        "\n",
        "name.append(\"Dayao\")\n",
        "print(name)\n",
        "\n",
        "name.reverse()\n",
        "print(name)"
      ]
    },
    {
      "cell_type": "markdown",
      "source": [
        "Using the set of positive whole numbers from 1 to 10, create a python or C++ program that displays if it is prime or composite."
      ],
      "metadata": {
        "id": "u0ii0H4B5vLA"
      }
    },
    {
      "cell_type": "code",
      "source": [
        "prime = []\n",
        "composite = []\n",
        "\n",
        "for x in range (2, 10):\n",
        "  for y in range (2, x):\n",
        "    if (x % y != 0):\n",
        "      prime.append(x)\n",
        "      break\n",
        "\n",
        "    else:\n",
        "      composite.append(x)\n",
        "\n",
        "print(prime)\n",
        "print(composite)"
      ],
      "metadata": {
        "colab": {
          "base_uri": "https://localhost:8080/"
        },
        "id": "BqS61rQ5M_SX",
        "outputId": "8c971f1c-75f0-49af-ca92-258b0db8df6f"
      },
      "execution_count": 104,
      "outputs": [
        {
          "output_type": "stream",
          "name": "stdout",
          "text": [
            "[3, 4, 5, 6, 7, 8, 9]\n",
            "[4, 6, 6, 8]\n"
          ]
        }
      ]
    }
  ]
}