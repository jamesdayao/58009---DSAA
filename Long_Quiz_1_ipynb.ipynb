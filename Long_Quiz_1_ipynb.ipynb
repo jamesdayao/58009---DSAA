{
  "nbformat": 4,
  "nbformat_minor": 0,
  "metadata": {
    "colab": {
      "provenance": [],
      "authorship_tag": "ABX9TyNyQ5RxFHDD7fgvWOnWUbiS",
      "include_colab_link": true
    },
    "kernelspec": {
      "name": "python3",
      "display_name": "Python 3"
    },
    "language_info": {
      "name": "python"
    }
  },
  "cells": [
    {
      "cell_type": "markdown",
      "metadata": {
        "id": "view-in-github",
        "colab_type": "text"
      },
      "source": [
        "<a href=\"https://colab.research.google.com/github/jamesdayao/58009-DSAA/blob/main/Long_Quiz_1_ipynb.ipynb\" target=\"_parent\"><img src=\"https://colab.research.google.com/assets/colab-badge.svg\" alt=\"Open In Colab\"/></a>"
      ]
    },
    {
      "cell_type": "markdown",
      "source": [
        "Create a python or C++ program that appends each character of your full name and displays each character in reverse order"
      ],
      "metadata": {
        "id": "xte_4xvS5snh"
      }
    },
    {
      "cell_type": "code",
      "execution_count": 13,
      "metadata": {
        "colab": {
          "base_uri": "https://localhost:8080/"
        },
        "id": "61AXd3fszCnb",
        "outputId": "3e00ad70-a842-4433-9b98-2648939ebf5a"
      },
      "outputs": [
        {
          "output_type": "stream",
          "name": "stdout",
          "text": [
            "['James Bernard', 'R.', 'Dayao']\n",
            "['Dayao', 'R.', 'James Bernard']\n"
          ]
        }
      ],
      "source": [
        "name = [\"James Bernard\", \"R.\"]\n",
        "\n",
        "name.append(\"Dayao\")\n",
        "print(name)\n",
        "\n",
        "name.reverse()\n",
        "print(name)"
      ]
    },
    {
      "cell_type": "markdown",
      "source": [
        "Using the set of positive whole numbers from 1 to 10, create a python or C++ program that displays if it is prime or composite."
      ],
      "metadata": {
        "id": "u0ii0H4B5vLA"
      }
    },
    {
      "cell_type": "code",
      "source": [
        "prime = []\n",
        "composite = []\n",
        "\n",
        "for x in range (2, 11):\n",
        "  for y in range (2, x):\n",
        "    if (x % y != 0):\n",
        "      prime.append(x)\n",
        "      break\n",
        "\n",
        "    else:\n",
        "      composite.append(x)\n",
        "\n",
        "print(prime)\n",
        "print(composite)"
      ],
      "metadata": {
        "id": "7X1mevGD8BfY",
        "outputId": "dff78727-0d33-4589-9a2e-96831270a47d",
        "colab": {
          "base_uri": "https://localhost:8080/"
        }
      },
      "execution_count": 94,
      "outputs": [
        {
          "output_type": "stream",
          "name": "stdout",
          "text": [
            "[3, 4, 5, 6, 7, 8, 9, 10]\n",
            "[4, 6, 6, 8, 10]\n"
          ]
        }
      ]
    }
  ]
}