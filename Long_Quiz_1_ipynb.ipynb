{
  "nbformat": 4,
  "nbformat_minor": 0,
  "metadata": {
    "colab": {
      "provenance": [],
      "authorship_tag": "ABX9TyOpCb9kDlJr8xtNSBGFJRxG",
      "include_colab_link": true
    },
    "kernelspec": {
      "name": "python3",
      "display_name": "Python 3"
    },
    "language_info": {
      "name": "python"
    }
  },
  "cells": [
    {
      "cell_type": "markdown",
      "metadata": {
        "id": "view-in-github",
        "colab_type": "text"
      },
      "source": [
        "<a href=\"https://colab.research.google.com/github/jamesdayao/58009-DSAA/blob/main/Long_Quiz_1_ipynb.ipynb\" target=\"_parent\"><img src=\"https://colab.research.google.com/assets/colab-badge.svg\" alt=\"Open In Colab\"/></a>"
      ]
    },
    {
      "cell_type": "markdown",
      "source": [
        "Create a python or C++ program that appends each character of your full name and displays each character in reverse order"
      ],
      "metadata": {
        "id": "xte_4xvS5snh"
      }
    },
    {
      "cell_type": "code",
      "execution_count": 2,
      "metadata": {
        "colab": {
          "base_uri": "https://localhost:8080/"
        },
        "id": "61AXd3fszCnb",
        "outputId": "d0fdf4b6-871d-4049-be52-77aa56b8d6c6"
      },
      "outputs": [
        {
          "output_type": "stream",
          "name": "stdout",
          "text": [
            "Your full name is: James Bernard R. Dayao\n",
            "Reversed full name: oayaD .R dranreB semaJ\n"
          ]
        }
      ],
      "source": [
        "def reverse_name(name):\n",
        "    reversed_name = []\n",
        "    for char in name:\n",
        "        reversed_name.append(char)\n",
        "\n",
        "    reversed_name.reverse()\n",
        "    reversed_str = ''\n",
        "    for char in reversed_name:\n",
        "        reversed_str += char\n",
        "    return reversed_str\n",
        "\n",
        "fname = \"James Bernard R. Dayao\"\n",
        "\n",
        "print(\"Your full name is:\", fname)\n",
        "\n",
        "reversed_full_name = reverse_name(fname)\n",
        "print(\"Reversed full name:\", reversed_full_name)"
      ]
    },
    {
      "cell_type": "markdown",
      "source": [
        "Using the set of positive whole numbers from 1 to 10, create a python or C++ program that displays if it is prime or composite."
      ],
      "metadata": {
        "id": "u0ii0H4B5vLA"
      }
    },
    {
      "cell_type": "code",
      "source": [
        "def is_prime(number):\n",
        "    if number <= 1:\n",
        "        return False\n",
        "    for i in range(2, number):\n",
        "        if number % i == 0:\n",
        "            return False\n",
        "    return True\n",
        "\n",
        "prime = []\n",
        "composite = []\n",
        "\n",
        "for num in range(1, 11):\n",
        "    if is_prime(num):\n",
        "        prime.append(num)\n",
        "    else:\n",
        "        composite.append(num)\n",
        "\n",
        "print(\"Prime numbers:\", prime)\n",
        "print(\"Composite numbers:\", composite)"
      ],
      "metadata": {
        "colab": {
          "base_uri": "https://localhost:8080/"
        },
        "id": "BqS61rQ5M_SX",
        "outputId": "89901fbd-541f-4896-b1bc-b1b8b68b3130"
      },
      "execution_count": 1,
      "outputs": [
        {
          "output_type": "stream",
          "name": "stdout",
          "text": [
            "Prime numbers: [2, 3, 5, 7]\n",
            "Composite numbers: [1, 4, 6, 8, 9, 10]\n"
          ]
        }
      ]
    }
  ]
}