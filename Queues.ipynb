{
  "nbformat": 4,
  "nbformat_minor": 0,
  "metadata": {
    "colab": {
      "provenance": [],
      "authorship_tag": "ABX9TyML9hILyWBuRA/ljtoAhaIO",
      "include_colab_link": true
    },
    "kernelspec": {
      "name": "python3",
      "display_name": "Python 3"
    },
    "language_info": {
      "name": "python"
    }
  },
  "cells": [
    {
      "cell_type": "markdown",
      "metadata": {
        "id": "view-in-github",
        "colab_type": "text"
      },
      "source": [
        "<a href=\"https://colab.research.google.com/github/jamesdayao/58009-DSAA/blob/main/Queues.ipynb\" target=\"_parent\"><img src=\"https://colab.research.google.com/assets/colab-badge.svg\" alt=\"Open In Colab\"/></a>"
      ]
    },
    {
      "cell_type": "code",
      "execution_count": 20,
      "metadata": {
        "colab": {
          "base_uri": "https://localhost:8080/"
        },
        "id": "4yp_oVeqgPBk",
        "outputId": "10ea18eb-5abd-45c9-9378-295c892a637f"
      },
      "outputs": [
        {
          "output_type": "stream",
          "name": "stdout",
          "text": [
            "['A', 'B', 'C'] \n",
            "\n",
            "A\n",
            "B\n",
            "C\n",
            "[] \n",
            "\n"
          ]
        }
      ],
      "source": [
        "queue = []\n",
        "\n",
        "#enqueue items into queue\n",
        "queue.append('A')\n",
        "queue.append('B')\n",
        "queue.append('C')\n",
        "print(queue, \"\\n\")\n",
        "\n",
        "#dequeue items from the queue\n",
        "print(queue.pop(0))\n",
        "print(queue.pop(0))\n",
        "print(queue.pop(0))\n",
        "print(queue, \"\\n\")"
      ]
    },
    {
      "cell_type": "code",
      "source": [
        "#Freeform\n",
        "queue = []\n",
        "\n",
        "#enqueue items into queue\n",
        "for x in range(1,11):\n",
        "  queue.append(x)\n",
        "\n",
        "print(\"Magazines:\", queue, \"\\n\")\n",
        "\n",
        "#dequeue items from the queue\n",
        "for y in range(1,11):\n",
        "  print(\"Current magazines:\", queue)\n",
        "  print(\"Number of magazines remaining:\", len(queue), \"\\n\")\n",
        "  print(\"Remove magazine:\", queue.pop(0), \"\\n\")\n",
        "\n",
        "print(\"Current Magazines:\", queue)"
      ],
      "metadata": {
        "colab": {
          "base_uri": "https://localhost:8080/"
        },
        "id": "2abCzRZ_l0X2",
        "outputId": "4ae145d1-a095-48d2-ae65-9576a38befca"
      },
      "execution_count": 108,
      "outputs": [
        {
          "output_type": "stream",
          "name": "stdout",
          "text": [
            "Magazines: [1, 2, 3, 4, 5, 6, 7, 8, 9, 10] \n",
            "\n",
            "Current magazines: [1, 2, 3, 4, 5, 6, 7, 8, 9, 10]\n",
            "Number of magazines remaining: 10 \n",
            "\n",
            "Remove magazine: 1 \n",
            "\n",
            "Current magazines: [2, 3, 4, 5, 6, 7, 8, 9, 10]\n",
            "Number of magazines remaining: 9 \n",
            "\n",
            "Remove magazine: 2 \n",
            "\n",
            "Current magazines: [3, 4, 5, 6, 7, 8, 9, 10]\n",
            "Number of magazines remaining: 8 \n",
            "\n",
            "Remove magazine: 3 \n",
            "\n",
            "Current magazines: [4, 5, 6, 7, 8, 9, 10]\n",
            "Number of magazines remaining: 7 \n",
            "\n",
            "Remove magazine: 4 \n",
            "\n",
            "Current magazines: [5, 6, 7, 8, 9, 10]\n",
            "Number of magazines remaining: 6 \n",
            "\n",
            "Remove magazine: 5 \n",
            "\n",
            "Current magazines: [6, 7, 8, 9, 10]\n",
            "Number of magazines remaining: 5 \n",
            "\n",
            "Remove magazine: 6 \n",
            "\n",
            "Current magazines: [7, 8, 9, 10]\n",
            "Number of magazines remaining: 4 \n",
            "\n",
            "Remove magazine: 7 \n",
            "\n",
            "Current magazines: [8, 9, 10]\n",
            "Number of magazines remaining: 3 \n",
            "\n",
            "Remove magazine: 8 \n",
            "\n",
            "Current magazines: [9, 10]\n",
            "Number of magazines remaining: 2 \n",
            "\n",
            "Remove magazine: 9 \n",
            "\n",
            "Current magazines: [10]\n",
            "Number of magazines remaining: 1 \n",
            "\n",
            "Remove magazine: 10 \n",
            "\n",
            "Current Magazines: []\n"
          ]
        }
      ]
    }
  ]
}