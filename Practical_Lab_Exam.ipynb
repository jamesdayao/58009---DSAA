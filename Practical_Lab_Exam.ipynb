{
  "nbformat": 4,
  "nbformat_minor": 0,
  "metadata": {
    "colab": {
      "provenance": [],
      "authorship_tag": "ABX9TyMOZBg16g7QS+MAh1vBrIFf",
      "include_colab_link": true
    },
    "kernelspec": {
      "name": "python3",
      "display_name": "Python 3"
    },
    "language_info": {
      "name": "python"
    }
  },
  "cells": [
    {
      "cell_type": "markdown",
      "metadata": {
        "id": "view-in-github",
        "colab_type": "text"
      },
      "source": [
        "<a href=\"https://colab.research.google.com/github/jamesdayao/58009-DSAA/blob/main/Practical_Lab_Exam.ipynb\" target=\"_parent\"><img src=\"https://colab.research.google.com/assets/colab-badge.svg\" alt=\"Open In Colab\"/></a>"
      ]
    },
    {
      "cell_type": "markdown",
      "source": [
        "Practical Lab Exam"
      ],
      "metadata": {
        "id": "VFQzXTLPYjlX"
      }
    },
    {
      "cell_type": "code",
      "source": [
        "score = [26,49,98,87,62,75]\n",
        "i = -1\n",
        "z = 0\n",
        "\n",
        "while (i < 5):\n",
        "  i += 1\n",
        "  if score[i] % 2 == 0:\n",
        "    continue\n",
        "\n",
        "  else:\n",
        "    z = score[i] + z\n",
        "\n",
        "print(z)\n"
      ],
      "metadata": {
        "colab": {
          "base_uri": "https://localhost:8080/"
        },
        "id": "6P-byaLnYpSG",
        "outputId": "712a8a1e-5c9a-4dcd-e83d-50357de23221"
      },
      "execution_count": 24,
      "outputs": [
        {
          "output_type": "stream",
          "name": "stdout",
          "text": [
            "211\n"
          ]
        }
      ]
    }
  ]
}