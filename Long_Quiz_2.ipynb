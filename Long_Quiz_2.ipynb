{
  "cells": [
    {
      "cell_type": "markdown",
      "metadata": {
        "id": "view-in-github",
        "colab_type": "text"
      },
      "source": [
        "<a href=\"https://colab.research.google.com/github/jamesdayao/58009-DSAA/blob/main/Long_Quiz_2.ipynb\" target=\"_parent\"><img src=\"https://colab.research.google.com/assets/colab-badge.svg\" alt=\"Open In Colab\"/></a>"
      ]
    },
    {
      "cell_type": "code",
      "execution_count": 1,
      "metadata": {
        "colab": {
          "base_uri": "https://localhost:8080/"
        },
        "id": "6FKV4J4XmZu8",
        "outputId": "921bf210-aed7-4ab9-941d-52386f2f3d9f"
      },
      "outputs": [
        {
          "output_type": "stream",
          "name": "stdout",
          "text": [
            "Edges: [{'I', 'E'}, {'E', 'J'}, {'K', 'E'}, {'F', 'J'}, {'I', 'F'}, {'K', 'F'}, {'H', 'I'}, {'H', 'K'}, {'H', 'J'}, {'M', 'E'}, {'F', 'P'}] \n",
            "\n",
            "Vertices: ['E', 'F', 'H', 'I', 'J', 'K', 'M', 'P']\n"
          ]
        }
      ],
      "source": [
        "class graph:\n",
        "  def __init__(self,gdict=None):\n",
        "    if gdict is None:\n",
        "      gdict = []\n",
        "    self.gdict = gdict\n",
        "\n",
        "  def edges(self):\n",
        "    return self.Edges()\n",
        "\n",
        "  def Edges(self):\n",
        "    edgename = []\n",
        "    for v in self.gdict:\n",
        "      for nv in self.gdict[v]:\n",
        "        if {nv, v} not in edgename:\n",
        "          edgename.append({v, nv})\n",
        "    return edgename\n",
        "\n",
        "  def getvertices(self):\n",
        "    return list(self.gdict.keys())\n",
        "\n",
        "elements = {\n",
        "    \"E\" : [\"I\", \"J\", \"K\"],\n",
        "    \"F\" : [\"J\", \"I\", \"K\"],\n",
        "    \"H\" : [\"I\", \"K\", \"J\"],\n",
        "    \"I\" : [\"H\", \"E\", \"F\"],\n",
        "    \"J\" : [\"H\", \"F\", \"E\"],\n",
        "    \"K\" : [\"H\", \"E\", \"F\"],\n",
        "    \"M\" : [\"E\"],\n",
        "    \"P\" : [\"F\"]\n",
        "}\n",
        "\n",
        "x = graph(elements)\n",
        "print(\"Edges:\", x.edges(), \"\\n\")\n",
        "print(\"Vertices:\", x.getvertices())"
      ]
    }
  ],
  "metadata": {
    "colab": {
      "provenance": [],
      "include_colab_link": true
    },
    "kernelspec": {
      "display_name": "Python 3",
      "name": "python3"
    },
    "language_info": {
      "name": "python"
    }
  },
  "nbformat": 4,
  "nbformat_minor": 0
}