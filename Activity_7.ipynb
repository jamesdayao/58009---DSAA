{
  "nbformat": 4,
  "nbformat_minor": 0,
  "metadata": {
    "colab": {
      "provenance": [],
      "authorship_tag": "ABX9TyNZMsayDSk3uPWTfEozwooc",
      "include_colab_link": true
    },
    "kernelspec": {
      "name": "python3",
      "display_name": "Python 3"
    },
    "language_info": {
      "name": "python"
    }
  },
  "cells": [
    {
      "cell_type": "markdown",
      "metadata": {
        "id": "view-in-github",
        "colab_type": "text"
      },
      "source": [
        "<a href=\"https://colab.research.google.com/github/jamesdayao/58009-DSAA/blob/main/Activity_7.ipynb\" target=\"_parent\"><img src=\"https://colab.research.google.com/assets/colab-badge.svg\" alt=\"Open In Colab\"/></a>"
      ]
    },
    {
      "cell_type": "markdown",
      "source": [
        "Display Graph Edges"
      ],
      "metadata": {
        "id": "g6Jx_JWVEtiA"
      }
    },
    {
      "cell_type": "code",
      "execution_count": 12,
      "metadata": {
        "colab": {
          "base_uri": "https://localhost:8080/"
        },
        "id": "27HE9MgNEkY3",
        "outputId": "01c29a46-efca-405f-fe73-745660c95cfe"
      },
      "outputs": [
        {
          "output_type": "stream",
          "name": "stdout",
          "text": [
            "[{'a', 'b'}, {'a', 'c'}, {'b', 'd'}, {'c', 'd'}, {'e', 'd'}]\n"
          ]
        }
      ],
      "source": [
        "class graph:\n",
        "  def __init__(self,gdict=None):\n",
        "    if gdict is None:\n",
        "      gdict = {}\n",
        "    self.gdict = gdict\n",
        "\n",
        "  def edges(self):\n",
        "    return self.findedges()\n",
        "\n",
        "#Find the distinct list of edges\n",
        "  def findedges(self):\n",
        "    edgename = []\n",
        "    for vrtx in self.gdict:\n",
        "      for nxtvrtx in self.gdict[vrtx]:\n",
        "        if {nxtvrtx, vrtx} not in edgename:\n",
        "          edgename.append({vrtx, nxtvrtx})\n",
        "    return edgename\n",
        "\n",
        "#Create the dictionary with graph elements\n",
        "graph_elements ={\n",
        "    \"a\" : [\"b\", \"c\"],\n",
        "    \"b\" : [\"a\", \"d\"],\n",
        "    \"c\" : [\"a\", \"d\"],\n",
        "    \"d\" : [\"e\"],\n",
        "    \"e\" : [\"d\"]\n",
        "}\n",
        "g = graph(graph_elements)\n",
        "print(g.edges())"
      ]
    },
    {
      "cell_type": "markdown",
      "source": [
        "Display Graph Vertices"
      ],
      "metadata": {
        "id": "KLhELRtgGTsH"
      }
    },
    {
      "cell_type": "code",
      "source": [
        "class graph:\n",
        "  def __init__(self,gdict=None):\n",
        "    if gdict is None:\n",
        "      gdict = []\n",
        "    self.gdict = gdict\n",
        "\n",
        "#Get the keys of the dictionary\n",
        "  def getVertices(self):\n",
        "    return list(self.gdict.keys())\n",
        "\n",
        "#Create the dictionary with graph elements\n",
        "graph_elements = {\n",
        "    \"a\" : [\"b\", \"c\"],\n",
        "    \"b\" : [\"a\", \"d\"],\n",
        "    \"c\" : [\"a\", \"d\"],\n",
        "    \"d\" : [\"e\"],\n",
        "    \"e\" : [\"d\"]\n",
        "}\n",
        "\n",
        "g = graph(graph_elements)\n",
        "print(g.getVertices())"
      ],
      "metadata": {
        "colab": {
          "base_uri": "https://localhost:8080/"
        },
        "id": "4UqqfRPjGVje",
        "outputId": "02dbc958-8612-48d6-ac77-ca768decdeb6"
      },
      "execution_count": 13,
      "outputs": [
        {
          "output_type": "stream",
          "name": "stdout",
          "text": [
            "['a', 'b', 'c', 'd', 'e']\n"
          ]
        }
      ]
    },
    {
      "cell_type": "markdown",
      "source": [
        "#Exercise Edges\n"
      ],
      "metadata": {
        "id": "c1ZOK0MSOK46"
      }
    },
    {
      "cell_type": "code",
      "source": [
        "class graph:\n",
        "  def __init__(self,gdict=None):\n",
        "    if gdict is None:\n",
        "      gdict = {}\n",
        "    self.gdict = gdict\n",
        "\n",
        "  def edges(self):\n",
        "    return self.findedges()\n",
        "\n",
        "#Find the distinct list of edges\n",
        "  def findedges(self):\n",
        "    edgename = []\n",
        "    for vrtx in self.gdict:\n",
        "      for nxtvrtx in self.gdict[vrtx]:\n",
        "        if {nxtvrtx, vrtx} not in edgename:\n",
        "          edgename.append({vrtx, nxtvrtx})\n",
        "    return edgename\n",
        "\n",
        "#Create the dictionary with graph elements\n",
        "graph_elements ={\n",
        "    1 : [2,3,5,6],\n",
        "    2 : [1,3,4,5,6],\n",
        "    3 : [1,2,4,5],\n",
        "    4 : [2,3],\n",
        "    5 : [1,2,3],\n",
        "    6 : [1,2]\n",
        "}\n",
        "g = graph(graph_elements)\n",
        "print(g.edges())\n",
        "print(\"Edges:\", len(g.edges()))"
      ],
      "metadata": {
        "colab": {
          "base_uri": "https://localhost:8080/"
        },
        "id": "iLgwwIArOKg6",
        "outputId": "eca68853-b0cf-403c-d554-c6fab5399136"
      },
      "execution_count": 20,
      "outputs": [
        {
          "output_type": "stream",
          "name": "stdout",
          "text": [
            "[{1, 2}, {1, 3}, {1, 5}, {1, 6}, {2, 3}, {2, 4}, {2, 5}, {2, 6}, {3, 4}, {3, 5}]\n",
            "Edges: 10\n"
          ]
        }
      ]
    },
    {
      "cell_type": "markdown",
      "source": [
        "#Exercise Vertices"
      ],
      "metadata": {
        "id": "SwD-XGPrRsyC"
      }
    },
    {
      "cell_type": "code",
      "source": [
        "class graph:\n",
        "  def __init__(self,gdict=None):\n",
        "    if gdict is None:\n",
        "      gdict = []\n",
        "    self.gdict = gdict\n",
        "\n",
        "#Get the keys of the dictionary\n",
        "  def getVertices(self):\n",
        "    return list(self.gdict.keys())\n",
        "\n",
        "#Create the dictionary with graph elements\n",
        "graph_elements = {\n",
        "    1 : [2,3,5,6],\n",
        "    2 : [1,3,4,5,6],\n",
        "    3 : [1,2,4,5],\n",
        "    4 : [2,3],\n",
        "    5 : [1,2,3],\n",
        "    6 : [1,2]\n",
        "}\n",
        "\n",
        "g = graph(graph_elements)\n",
        "print(g.getVertices())\n",
        "print(\"Vertices:\", len(g.getVertices()))"
      ],
      "metadata": {
        "colab": {
          "base_uri": "https://localhost:8080/"
        },
        "id": "9zqJ-dVoRrqr",
        "outputId": "06c7eeed-3d1d-4bb1-839f-2ca4eae87fe8"
      },
      "execution_count": 21,
      "outputs": [
        {
          "output_type": "stream",
          "name": "stdout",
          "text": [
            "[1, 2, 3, 4, 5, 6]\n",
            "Vertices: 6\n"
          ]
        }
      ]
    }
  ]
}