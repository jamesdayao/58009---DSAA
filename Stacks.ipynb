{
  "nbformat": 4,
  "nbformat_minor": 0,
  "metadata": {
    "colab": {
      "provenance": [],
      "authorship_tag": "ABX9TyPxJJmJNQO1t4gMd825ludT",
      "include_colab_link": true
    },
    "kernelspec": {
      "name": "python3",
      "display_name": "Python 3"
    },
    "language_info": {
      "name": "python"
    }
  },
  "cells": [
    {
      "cell_type": "markdown",
      "metadata": {
        "id": "view-in-github",
        "colab_type": "text"
      },
      "source": [
        "<a href=\"https://colab.research.google.com/github/jamesdayao/58009-DSAA/blob/main/Stacks.ipynb\" target=\"_parent\"><img src=\"https://colab.research.google.com/assets/colab-badge.svg\" alt=\"Open In Colab\"/></a>"
      ]
    },
    {
      "cell_type": "code",
      "execution_count": 31,
      "metadata": {
        "colab": {
          "base_uri": "https://localhost:8080/"
        },
        "id": "9SzEMwCZvmFF",
        "outputId": "d3a5143b-6587-4630-c3b8-7c3d9a4ae61b"
      },
      "outputs": [
        {
          "output_type": "stream",
          "name": "stdout",
          "text": [
            "['Mon', 'Tue', 'Wed', 'Thu', 'Fri', 'Sat', 'Sun'] \n",
            "\n",
            "Sun ['Mon', 'Tue', 'Wed', 'Thu', 'Fri', 'Sat']\n",
            "Sat ['Mon', 'Tue', 'Wed', 'Thu', 'Fri']\n",
            "Fri ['Mon', 'Tue', 'Wed', 'Thu']\n",
            "Thu ['Mon', 'Tue', 'Wed']\n",
            "Wed ['Mon', 'Tue']\n",
            "Tue ['Mon']\n",
            "Mon []\n",
            "No element in the Stack []\n"
          ]
        }
      ],
      "source": [
        "class Stack:\n",
        "    def __init__(self):\n",
        "        self.stack = []\n",
        "\n",
        "    def add(self, dataval): # Use list append method to addelement\n",
        "        if dataval not in self.stack:\n",
        "          self.stack.append(dataval)\n",
        "          return True\n",
        "\n",
        "        else:\n",
        "          return False\n",
        "\n",
        "    def remove(self): # Use list pop method to remove element\n",
        "        if len(self.stack) <= 0:\n",
        "            return \"No element in the Stack\"\n",
        "\n",
        "        else:\n",
        "            return self.stack.pop()\n",
        "\n",
        "AStack = Stack()\n",
        "AStack.add(\"Mon\")\n",
        "AStack.add(\"Tue\")\n",
        "AStack.add(\"Wed\")\n",
        "AStack.add(\"Thu\")\n",
        "AStack.add(\"Fri\")\n",
        "AStack.add(\"Sat\")\n",
        "AStack.add(\"Sun\")\n",
        "\n",
        "print(AStack.stack, \"\\n\")\n",
        "\n",
        "for i in range(0, 8):\n",
        "  print(AStack.remove(), AStack.stack)\n"
      ]
    },
    {
      "cell_type": "code",
      "source": [
        "# Stack implementation in python\n",
        "# Creating a stack\n",
        "def create_stack():\n",
        "    stack = []\n",
        "    return stack\n",
        "\n",
        "def is_empty(stack): # Creating an empty stack\n",
        "    return len(stack) == 0\n",
        "\n",
        "def push(stack, item): #Adding items into the stack\n",
        "    stack.append(item)\n",
        "    print(\"Pushed Element: \" + item)\n",
        "\n",
        "def pop(stack): # Removing an element from the stack\n",
        "  if (is_empty(stack)):\n",
        "    return \"The stack is empty\"\n",
        "    return stack.pop()\n",
        "\n",
        "stack = create_stack()\n",
        "\n",
        "push(stack, str(1))\n",
        "push(stack, str(2))\n",
        "push(stack, str(3))\n",
        "push(stack, str(4))\n",
        "push(stack, str(5))\n",
        "print(\"\\t\")\n",
        "print(\"The elements in the stack are:\"+ str(stack))\n",
        "print(\"The length of the stack is:\", len(stack), \"\\n\")\n",
        "\n",
        "for i in range(0,3):\n",
        "  print(\"Removed:\",stack.pop())\n",
        "print(\"\\t\")\n",
        "print(\"The elements in the stack are:\"+ str(stack))\n",
        "print(\"The length of the stack is:\", len(stack))"
      ],
      "metadata": {
        "colab": {
          "base_uri": "https://localhost:8080/"
        },
        "id": "1GLNSXV23apQ",
        "outputId": "ed3e6ded-0bb8-4ae7-e48c-d7134a69b60d"
      },
      "execution_count": 57,
      "outputs": [
        {
          "output_type": "stream",
          "name": "stdout",
          "text": [
            "Pushed Element: 1\n",
            "Pushed Element: 2\n",
            "Pushed Element: 3\n",
            "Pushed Element: 4\n",
            "Pushed Element: 5\n",
            "\t\n",
            "The elements in the stack are:['1', '2', '3', '4', '5']\n",
            "The length of the stack is: 5 \n",
            "\n",
            "Removed: 5\n",
            "Removed: 4\n",
            "Removed: 3\n",
            "\t\n",
            "The elements in the stack are:['1', '2']\n",
            "The length of the stack is: 2\n"
          ]
        }
      ]
    }
  ]
}